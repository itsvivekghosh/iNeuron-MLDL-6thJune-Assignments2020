{
  "nbformat": 4,
  "nbformat_minor": 0,
  "metadata": {
    "colab": {
      "name": "MLDL6thJune-Assignment4.ipynb",
      "provenance": [],
      "collapsed_sections": [],
      "authorship_tag": "ABX9TyN/8qfAUBSTGo0q7cO9he4o",
      "include_colab_link": true
    },
    "kernelspec": {
      "name": "python3",
      "display_name": "Python 3"
    }
  },
  "cells": [
    {
      "cell_type": "markdown",
      "metadata": {
        "id": "view-in-github",
        "colab_type": "text"
      },
      "source": [
        "<a href=\"https://colab.research.google.com/github/itsvivekghosh/iNeuron-MLDL-6thJune-Assignments2020/blob/master/MLDL6thJune_Assignment4.ipynb\" target=\"_parent\"><img src=\"https://colab.research.google.com/assets/colab-badge.svg\" alt=\"Open In Colab\"/></a>"
      ]
    },
    {
      "cell_type": "markdown",
      "metadata": {
        "id": "CzmLlAhp9cDO",
        "colab_type": "text"
      },
      "source": [
        "# Assignment 4"
      ]
    },
    {
      "cell_type": "markdown",
      "metadata": {
        "id": "s68p2qfcosy0",
        "colab_type": "text"
      },
      "source": [
        "### Problem 1.1:\n",
        "### Write a Python Program(with class concepts) to find the area of the triangle using the below formula: \n",
        "\n",
        "###__area = (s*(s-a)*(s-b)*(s-c)) ** 0.5__\n",
        "\n",
        "***Function to take the length of the sides of triangle from user should be defined in the parent\n",
        "class and function to calculate the area should be defined in subclass.***"
      ]
    },
    {
      "cell_type": "code",
      "metadata": {
        "id": "x0z_lDCIma6m",
        "colab_type": "code",
        "colab": {}
      },
      "source": [
        "### Find the area of triangle\n",
        "class Triangle(object): ## Parent Class\n",
        "\n",
        "    def __init__(self):\n",
        "        self.a = None\n",
        "        self.b = None\n",
        "        self.c = None\n",
        "        self.s = None\n",
        "\n",
        "\n",
        "    def calculateS(self):\n",
        "        self.s = (self.a + self.b + self.c) / 2\n",
        "\n",
        "\n",
        "    def inputSides(self):\n",
        "        self.a = int(input(\"Enter the Length of Side 1: \"))\n",
        "        self.b = int(input(\"Enter the Length of Side 2: \"))\n",
        "        self.c = int(input(\"Enter the Length of Side 3: \"))\n",
        "\n",
        "        self.calculateS()\n",
        "\n",
        "\n",
        "class Area(Triangle): ## Child Class\n",
        "\n",
        "    def __init__(self):\n",
        "        self.triangle = Triangle()\n",
        "        self.triangle.inputSides()\n",
        "        self.s, self.area = None, None\n",
        "\n",
        "\n",
        "    def calculateArea(self):\n",
        "        self.s = self.triangle.s\n",
        "        self.area = (\n",
        "            self.triangle.s * (self.triangle.s - self.triangle.a) \\\n",
        "            * (self.triangle.s - self.triangle.b) * \\\n",
        "            (self.triangle.s - self.triangle.c)) ** 0.5\n",
        "\n",
        "        return self.area"
      ],
      "execution_count": null,
      "outputs": []
    },
    {
      "cell_type": "code",
      "metadata": {
        "id": "2OjarxBCw9k9",
        "colab_type": "code",
        "colab": {
          "base_uri": "https://localhost:8080/",
          "height": 86
        },
        "outputId": "cff2d62e-6da0-4365-a538-5eab527c06b8"
      },
      "source": [
        "area = Area()\n",
        "area = area.calculateArea()\n",
        "print(\"Area of Triangle 1 is: {}\".format(round(area, 4)))"
      ],
      "execution_count": null,
      "outputs": [
        {
          "output_type": "stream",
          "text": [
            "Enter the Length of Side 1: 50\n",
            "Enter the Length of Side 2: 50\n",
            "Enter the Length of Side 3: 50\n",
            "Area of Triangle 1 is: 1082.5318\n"
          ],
          "name": "stdout"
        }
      ]
    },
    {
      "cell_type": "code",
      "metadata": {
        "id": "DAMvmZ8XxL_4",
        "colab_type": "code",
        "colab": {
          "base_uri": "https://localhost:8080/",
          "height": 86
        },
        "outputId": "c789b6f5-d304-4d3d-e118-751f7b2d252c"
      },
      "source": [
        "area = Area()\n",
        "area = area.calculateArea()\n",
        "print(\"Area of Triangle 2 is: {}\".format(round(area, 4)))"
      ],
      "execution_count": null,
      "outputs": [
        {
          "output_type": "stream",
          "text": [
            "Enter the Length of Side 1: 50\n",
            "Enter the Length of Side 2: 60\n",
            "Enter the Length of Side 3: 70\n",
            "Area of Triangle 2 is: 1469.6938\n"
          ],
          "name": "stdout"
        }
      ]
    },
    {
      "cell_type": "markdown",
      "metadata": {
        "id": "EGGB-61rxdyU",
        "colab_type": "text"
      },
      "source": [
        "### Problem 1.2: Write a function filter_long_words() that takes a list of words and an integer n and returns the list of words that are longer than n.\n"
      ]
    },
    {
      "cell_type": "code",
      "metadata": {
        "id": "P4RzODY6xMOW",
        "colab_type": "code",
        "colab": {}
      },
      "source": [
        "def filter_long_words(words, n):\n",
        "\n",
        "    result = list()\n",
        "    result = [word for word in words if len(word) > n]\n",
        "    not_result = [word for word in words if len(word) < n] ## Just an Experiment\n",
        "    return result, not_result"
      ],
      "execution_count": null,
      "outputs": []
    },
    {
      "cell_type": "code",
      "metadata": {
        "id": "snEUaC0WxWvP",
        "colab_type": "code",
        "colab": {
          "base_uri": "https://localhost:8080/",
          "height": 159
        },
        "outputId": "1debd40b-4b57-46bb-b066-0d8a1396a53d"
      },
      "source": [
        "words = ['Indonesia', 'Brazil', \"India\", \"Australia\", \"America\", \"China\", \"South Africa\", \"Sri Lanka\", \"Bangladesh\", \"United Kingdom\", \"Singapore\", \"Switzerland\"]\n",
        "threshold = 7\n",
        "\n",
        "print(\"Original List: {} of length {}\\n\\n\".format(words, len(words)))\n",
        "\n",
        "result, not_result = filter_long_words(words, threshold)\n",
        "print(\"All Words that are longer then length {} are: {} and the Result is of Length: {}\\n\\n\".format(threshold, result, len(result)))\n",
        "print(\"All Words that are not longer then length {} are: {} and the Result is of Length: {}\".format(threshold, not_result, len(not_result)))"
      ],
      "execution_count": null,
      "outputs": [
        {
          "output_type": "stream",
          "text": [
            "Original List: ['Indonesia', 'Brazil', 'India', 'Australia', 'America', 'China', 'South Africa', 'Sri Lanka', 'Bangladesh', 'United Kingdom', 'Singapore', 'Switzerland'] of length 12\n",
            "\n",
            "\n",
            "All Words that are longer then length 7 are: ['Indonesia', 'Australia', 'South Africa', 'Sri Lanka', 'Bangladesh', 'United Kingdom', 'Singapore', 'Switzerland'] and the Result is of Length: 8\n",
            "\n",
            "\n",
            "All Words that are not longer then length 7 are: ['Brazil', 'India', 'China'] and the Result is of Length: 3\n"
          ],
          "name": "stdout"
        }
      ]
    },
    {
      "cell_type": "markdown",
      "metadata": {
        "id": "SzKToNdNztL9",
        "colab_type": "text"
      },
      "source": [
        "### Problem 2.1: Write a Python program using function concept that maps list of words into a list of integers representing the lengths of the corresponding words.\n",
        "***Hint: If a list [ ab,cde,erty] is passed on to the python function output should come as [2,3,4]\n",
        "Here 2,3 and 4 are the lengths of the words in the list.***"
      ]
    },
    {
      "cell_type": "code",
      "metadata": {
        "id": "Wdq_yUUNz09V",
        "colab_type": "code",
        "colab": {
          "base_uri": "https://localhost:8080/",
          "height": 89
        },
        "outputId": "9a49d11e-a22e-44e2-b049-714f7d650336"
      },
      "source": [
        "## Function that maps words to the length of the words corresponding to it...\n",
        "def mapListLengths(words):\n",
        "\n",
        "    lengths = dict()   ### Just an experiment\n",
        "    lengths_ = list() ### Result List\n",
        "\n",
        "    for word in words:\n",
        "        lengths[word] = len(word)\n",
        "        lengths_.append(len(word))\n",
        "\n",
        "    return lengths, lengths_\n",
        "\n",
        "### Passing Word List to mapListLengths()\n",
        "words = ['Indonesia', 'Brazil', \"Indian\", \"Australia\", \"America\", \"Canada\", \"South Africa\", \"Sri Lanka\", \"Bangladesh\", \"United Kingdom\", \"Singapore\", \"Switzerland\"]\n",
        "result, result_ = mapListLengths(words)\n",
        "print(\"The Original List was :{} \\nand The Result is: {}\".format(words, result_))\n",
        "print(\"<<<\", \"*\" * 10, \"Each Word Corresponds to the length of it\", \"*\" * 10,\">>>\")"
      ],
      "execution_count": null,
      "outputs": [
        {
          "output_type": "stream",
          "text": [
            "The Original List was :['Indonesia', 'Brazil', 'Indian', 'Australia', 'America', 'Canada', 'South Africa', 'Sri Lanka', 'Bangladesh', 'United Kingdom', 'Singapore', 'Switzerland'] \n",
            "and The Result is: [9, 6, 6, 9, 7, 6, 12, 9, 10, 14, 9, 11]\n",
            "<<< ********** Each Word Corresponds to the length of it ********** >>>\n"
          ],
          "name": "stdout"
        }
      ]
    },
    {
      "cell_type": "markdown",
      "metadata": {
        "id": "I3VBH2RM2eDD",
        "colab_type": "text"
      },
      "source": [
        "### Problem 2.2: Write a Python function which takes a character (i.e. a  string of length 1) and returns True if it is a vowel, False otherwise."
      ]
    },
    {
      "cell_type": "code",
      "metadata": {
        "id": "1aTNk27d2dhd",
        "colab_type": "code",
        "colab": {}
      },
      "source": [
        "def isVowelOrNot(character):\n",
        "    \n",
        "    vowels = {\n",
        "        'a': True,\n",
        "        'e': True,\n",
        "        'o': True,\n",
        "        'u': True,\n",
        "        'i': True\n",
        "    }\n",
        "\n",
        "    return vowels.get(character, False)"
      ],
      "execution_count": null,
      "outputs": []
    },
    {
      "cell_type": "code",
      "metadata": {
        "id": "f7z0wIne5c-O",
        "colab_type": "code",
        "colab": {
          "base_uri": "https://localhost:8080/",
          "height": 575
        },
        "outputId": "51a42f61-22ab-4766-8f9d-062eeb4fff30"
      },
      "source": [
        "## Printing all Vowels\n",
        "print(\"Priting all Vowels which is, or Not!...\\n\\n\")\n",
        "for char in range(ord('a'), ord('z')+1):\n",
        "\n",
        "    if(isVowelOrNot(chr(char))):\n",
        "        print(\"Yes, {} is a Vowel!\".format(chr(char)))\n",
        "\n",
        "    else:\n",
        "        print(\"No, {} is not a Vowel!\".format(chr(char)))\n",
        "\n",
        "print(\"\\n\\nFinish...!\")"
      ],
      "execution_count": null,
      "outputs": [
        {
          "output_type": "stream",
          "text": [
            "Priting all Vowels which is, or Not!...\n",
            "\n",
            "\n",
            "Yes, a is a Vowel!\n",
            "No, b is not a Vowel!\n",
            "No, c is not a Vowel!\n",
            "No, d is not a Vowel!\n",
            "Yes, e is a Vowel!\n",
            "No, f is not a Vowel!\n",
            "No, g is not a Vowel!\n",
            "No, h is not a Vowel!\n",
            "Yes, i is a Vowel!\n",
            "No, j is not a Vowel!\n",
            "No, k is not a Vowel!\n",
            "No, l is not a Vowel!\n",
            "No, m is not a Vowel!\n",
            "No, n is not a Vowel!\n",
            "Yes, o is a Vowel!\n",
            "No, p is not a Vowel!\n",
            "No, q is not a Vowel!\n",
            "No, r is not a Vowel!\n",
            "No, s is not a Vowel!\n",
            "No, t is not a Vowel!\n",
            "Yes, u is a Vowel!\n",
            "No, v is not a Vowel!\n",
            "No, w is not a Vowel!\n",
            "No, x is not a Vowel!\n",
            "No, y is not a Vowel!\n",
            "No, z is not a Vowel!\n",
            "\n",
            "\n",
            "Finish...!\n"
          ],
          "name": "stdout"
        }
      ]
    },
    {
      "cell_type": "markdown",
      "metadata": {
        "id": "K0OfZ0tf9As1",
        "colab_type": "text"
      },
      "source": [
        "## !!! Thanks"
      ]
    }
  ]
}