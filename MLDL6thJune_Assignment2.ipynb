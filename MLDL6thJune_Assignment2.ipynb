{
  "nbformat": 4,
  "nbformat_minor": 0,
  "metadata": {
    "colab": {
      "name": "MLDL6thJune-Assignment2.ipynb",
      "provenance": [],
      "collapsed_sections": [],
      "authorship_tag": "ABX9TyNH5Xfr6kVFsnBPk27ckNMf",
      "include_colab_link": true
    },
    "kernelspec": {
      "name": "python3",
      "display_name": "Python 3"
    }
  },
  "cells": [
    {
      "cell_type": "markdown",
      "metadata": {
        "id": "view-in-github",
        "colab_type": "text"
      },
      "source": [
        "<a href=\"https://colab.research.google.com/github/itsvivekghosh/iNeuron-MLDL-6thJune-Assignments2020/blob/master/MLDL6thJune_Assignment2.ipynb\" target=\"_parent\"><img src=\"https://colab.research.google.com/assets/colab-badge.svg\" alt=\"Open In Colab\"/></a>"
      ]
    },
    {
      "cell_type": "markdown",
      "metadata": {
        "id": "Av4WA_SGj7Nn",
        "colab_type": "text"
      },
      "source": [
        "### Problem 1: Write a program to print the Pattern:\n",
        "\n",
        "```\n",
        "* \n",
        "* * \n",
        "* * * \n",
        "* * * * \n",
        "* * * * * \n",
        "* * * * \n",
        "* * * \n",
        "* * \n",
        "* \n",
        "```"
      ]
    },
    {
      "cell_type": "code",
      "metadata": {
        "id": "QZQISxl5iI7S",
        "colab_type": "code",
        "colab": {
          "base_uri": "https://localhost:8080/",
          "height": 184
        },
        "outputId": "350c7a5d-9986-440f-b79f-1649e3cf2977"
      },
      "source": [
        "for i in  range(0, 6):\n",
        "    for j in range(i):\n",
        "        print(\"*\", end=' ')\n",
        "    print(\"\")\n",
        "\n",
        "    if i == 5:\n",
        "        for k in range(4, 0, -1):\n",
        "            for l in range(k):\n",
        "                print(\"*\", end=' ')\n",
        "            print(\"\")"
      ],
      "execution_count": null,
      "outputs": [
        {
          "output_type": "stream",
          "text": [
            "\n",
            "* \n",
            "* * \n",
            "* * * \n",
            "* * * * \n",
            "* * * * * \n",
            "* * * * \n",
            "* * * \n",
            "* * \n",
            "* \n"
          ],
          "name": "stdout"
        }
      ]
    },
    {
      "cell_type": "markdown",
      "metadata": {
        "id": "oPtfGWKQkMCV",
        "colab_type": "text"
      },
      "source": [
        "### Problem 2: Write a Python program to reverse a word after accepting the input from the user."
      ]
    },
    {
      "cell_type": "code",
      "metadata": {
        "id": "CpRfUB2kjBFY",
        "colab_type": "code",
        "colab": {
          "base_uri": "https://localhost:8080/",
          "height": 50
        },
        "outputId": "35e74932-0ab7-4d55-d108-07ffbad2f6c7"
      },
      "source": [
        "value = str(input(\"Enter Any String: \"))\n",
        "print(\"The Reversed String is: {}\".format(value[::-1]))"
      ],
      "execution_count": null,
      "outputs": [
        {
          "output_type": "stream",
          "text": [
            "Enter Any String: ineuron\n",
            "The Reversed String is: norueni\n"
          ],
          "name": "stdout"
        }
      ]
    }
  ]
}