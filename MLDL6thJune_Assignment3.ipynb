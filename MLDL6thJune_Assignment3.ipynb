{
  "nbformat": 4,
  "nbformat_minor": 0,
  "metadata": {
    "colab": {
      "name": "MLDL6thJune-Assignment3.ipynb",
      "provenance": [],
      "collapsed_sections": [],
      "authorship_tag": "ABX9TyMYoXGooLMVTHfKNdmQgA6q",
      "include_colab_link": true
    },
    "kernelspec": {
      "name": "python3",
      "display_name": "Python 3"
    }
  },
  "cells": [
    {
      "cell_type": "markdown",
      "metadata": {
        "id": "view-in-github",
        "colab_type": "text"
      },
      "source": [
        "<a href=\"https://colab.research.google.com/github/itsvivekghosh/iNeuron-MLDL-6thJune-Assignments2020/blob/master/MLDL6thJune_Assignment3.ipynb\" target=\"_parent\"><img src=\"https://colab.research.google.com/assets/colab-badge.svg\" alt=\"Open In Colab\"/></a>"
      ]
    },
    {
      "cell_type": "markdown",
      "metadata": {
        "id": "elQ0Nl5N975F",
        "colab_type": "text"
      },
      "source": [
        "# Assignment 3\n",
        "### Write a Python Program to implement your own myreduce() function which works exactly like Python's built-in function reduce()"
      ]
    },
    {
      "cell_type": "code",
      "metadata": {
        "id": "TGUEjvNZ-awU",
        "colab_type": "code",
        "colab": {
          "base_uri": "https://localhost:8080/",
          "height": 72
        },
        "outputId": "4c97898e-3bc2-4ea8-c8b8-1f4bfc6853a8"
      },
      "source": [
        "# Using Reduce Function\n",
        "\n",
        "# importing functools for reduce() \n",
        "import functools \n",
        "import numpy as np\n",
        "\n",
        "num = list([123, 22, 56, 77, 19, 72, 62, 20, 155, 77, 81, 93])\n",
        "\n",
        "# Using reduce to compute maximum element from list \n",
        "print(\"Using functools.reduce()\\nThe Sum of all elements is:\", functools.reduce(lambda a, b : a+b, num))\n",
        "print(\"The Maximum element is:\", functools.reduce(lambda a, b: a if(a > b) else b, num))"
      ],
      "execution_count": null,
      "outputs": [
        {
          "output_type": "stream",
          "text": [
            "Using functools.reduce()\n",
            "The Sum of all elements is: 857\n",
            "The Maximum element is: 155\n"
          ],
          "name": "stdout"
        }
      ]
    },
    {
      "cell_type": "code",
      "metadata": {
        "id": "iIoi6j6N-g7B",
        "colab_type": "code",
        "colab": {
          "base_uri": "https://localhost:8080/",
          "height": 72
        },
        "outputId": "6ed8cb39-f2c6-4735-ed0e-e39d273c3f32"
      },
      "source": [
        "# Using Own Function\n",
        "def sum(x, y):\n",
        "    return x+y\n",
        "\n",
        "\n",
        "def myReduce(function, arr):\n",
        "    \n",
        "    ans = arr[0]\n",
        "\n",
        "    for item in arr[1:]:\n",
        "        ans = function(ans, item)\n",
        "    \n",
        "    return ans\n",
        "\n",
        "def maximum(a, b):\n",
        "    if a>b: return a\n",
        "    else: return b\n",
        "\n",
        "arr = list([123, 22, 56, 77, 19, 72, 62, 20, 155, 77, 81, 93])\n",
        "\n",
        "print(\"Using mtReduce()\\nThe Sum of all elements is:\", myReduce(sum, arr))\n",
        "print(\"The Maximum element is:\", myReduce(maximum, arr))"
      ],
      "execution_count": null,
      "outputs": [
        {
          "output_type": "stream",
          "text": [
            "Using mtReduce()\n",
            "The Sum of all elements is: 857\n",
            "The Maximum element is: 155\n"
          ],
          "name": "stdout"
        }
      ]
    },
    {
      "cell_type": "markdown",
      "metadata": {
        "id": "wV7QQ1AS93JP",
        "colab_type": "text"
      },
      "source": [
        "## Problem 2: Write a Python program to implement your own myfilter() function which works exactly like Python's built-in function filter()"
      ]
    },
    {
      "cell_type": "code",
      "metadata": {
        "id": "KM93Ab5cF-Zb",
        "colab_type": "code",
        "colab": {
          "base_uri": "https://localhost:8080/",
          "height": 90
        },
        "outputId": "60b04432-bf97-4270-8058-6063c08b3f9e"
      },
      "source": [
        "### Using Filter() Method\n",
        "ages = [5, 12, 17, 18, 24, 32]\n",
        "\n",
        "def myFunc(x):\n",
        "  if x < 18:\n",
        "    return False\n",
        "  else:\n",
        "    return True\n",
        "\n",
        "adults = filter(myFunc, ages)\n",
        "\n",
        "print(\"Using Filter() Function\\n\")\n",
        "print(\"Original List: {}\".format(ages))\n",
        "print(\"Out of that Adults are: \", end=' ')\n",
        "\n",
        "for x in adults:\n",
        "  print(x, end=' ') "
      ],
      "execution_count": null,
      "outputs": [
        {
          "output_type": "stream",
          "text": [
            "Using Filter() Function\n",
            "\n",
            "Original List: [5, 12, 17, 18, 24, 32]\n",
            "Out of that Adults are:  18 24 32 "
          ],
          "name": "stdout"
        }
      ]
    },
    {
      "cell_type": "code",
      "metadata": {
        "id": "LSKUqV1AF_Kx",
        "colab_type": "code",
        "colab": {
          "base_uri": "https://localhost:8080/",
          "height": 90
        },
        "outputId": "ea8fd364-4530-43e0-9e1b-0fb5c5788329"
      },
      "source": [
        "# Custom filter function ie. myFilter()\n",
        "ages = [5, 12, 17, 18, 24, 32]\n",
        "\n",
        "def isAdult(age):\n",
        "    if age >= 18:\n",
        "        return True\n",
        "    else:\n",
        "        return False\n",
        "\n",
        "def myFilter(function, arr):\n",
        "\n",
        "    adults = []\n",
        "\n",
        "    for item in arr:\n",
        "        if function(item):\n",
        "            adults.append(item)\n",
        "\n",
        "    return adults\n",
        "\n",
        "\n",
        "print(\"Using Custom Filter():\\n\")\n",
        "print(\"Original List: {}\".format(ages))\n",
        "print(\"Out of that Adults are: \", end=' ')\n",
        "adults = myFilter(isAdult, ages)\n",
        "\n",
        "for x in adults:\n",
        "    print(x, end=' ')"
      ],
      "execution_count": null,
      "outputs": [
        {
          "output_type": "stream",
          "text": [
            "Using Custom Filter():\n",
            "\n",
            "Original List: [5, 12, 17, 18, 24, 32]\n",
            "Out of that Adults are:  18 24 32 "
          ],
          "name": "stdout"
        }
      ]
    },
    {
      "cell_type": "markdown",
      "metadata": {
        "id": "EosSHDTNIxc8",
        "colab_type": "text"
      },
      "source": [
        "## Problem 3: Implement List comprehensions to produce the following lists. Write List comprehensions to produce the following Lists<br>\n",
        "- ['A', 'C', 'A', 'D', 'G', 'I', ’L’, ‘ D’]<br>\n",
        "- ['x', 'xx', 'xxx', 'xxxx', 'y', 'yy', 'yyy', 'yyyy', 'z', 'zz', 'zzz', 'zzzz']<br>\n",
        "- ['x', 'y', 'z', 'xx', 'yy', 'zz', 'xxx', 'yyy', 'zzz', 'xxxx', 'yyyy', 'zzzz']<br>\n",
        "- [[2], [3], [4], [3], [4], [5], [4], [5], [6]] \n",
        "-[[2, 3, 4, 5], [3, 4, 5, 6], [4, 5, 6, 7], [5, 6, 7, 8]]<br>\n",
        "- [(1, 1), (2, 1), (3, 1), (1, 2), (2, 2), (3, 2), (1, 3), (2, 3), (3, 3)]"
      ]
    },
    {
      "cell_type": "code",
      "metadata": {
        "id": "I25U7uuaIxMz",
        "colab_type": "code",
        "colab": {
          "base_uri": "https://localhost:8080/",
          "height": 35
        },
        "outputId": "329cf8e3-337d-4c2a-a3cb-9e06d20596c5"
      },
      "source": [
        "word = 'ACADGILD'\n",
        "arr = [c for c in word]\n",
        "print (\"ACADGILD: \" + str(arr))"
      ],
      "execution_count": null,
      "outputs": [
        {
          "output_type": "stream",
          "text": [
            "ACADGILD: ['A', 'C', 'A', 'D', 'G', 'I', 'L', 'D']\n"
          ],
          "name": "stdout"
        }
      ]
    },
    {
      "cell_type": "code",
      "metadata": {
        "id": "87Q9-DpEIv0i",
        "colab_type": "code",
        "colab": {
          "base_uri": "https://localhost:8080/",
          "height": 35
        },
        "outputId": "464108e4-17c4-46e5-cba1-8190362a7c6b"
      },
      "source": [
        "word = 'xyz'\n",
        "arr = [character * iteration for character in word for iteration in range(1, 5)]\n",
        "print (\"xyz: \" + str(arr))"
      ],
      "execution_count": null,
      "outputs": [
        {
          "output_type": "stream",
          "text": [
            "xyz: ['x', 'xx', 'xxx', 'xxxx', 'y', 'yy', 'yyy', 'yyyy', 'z', 'zz', 'zzz', 'zzzz']\n"
          ],
          "name": "stdout"
        }
      ]
    },
    {
      "cell_type": "code",
      "metadata": {
        "id": "fEu5REhOKDc0",
        "colab_type": "code",
        "colab": {
          "base_uri": "https://localhost:8080/",
          "height": 35
        },
        "outputId": "45503c87-4bba-4f89-a6f2-512614dbd11a"
      },
      "source": [
        "word = 'xyz'\n",
        "arr = [character * iteration for iteration in range(1, 5) for character in word]\n",
        "print (\"xyz: \" + str(arr))"
      ],
      "execution_count": null,
      "outputs": [
        {
          "output_type": "stream",
          "text": [
            "xyz: ['x', 'y', 'z', 'xx', 'yy', 'zz', 'xxx', 'yyy', 'zzz', 'xxxx', 'yyyy', 'zzzz']\n"
          ],
          "name": "stdout"
        }
      ]
    },
    {
      "cell_type": "code",
      "metadata": {
        "id": "NWY4j8YMKdko",
        "colab_type": "code",
        "colab": {
          "base_uri": "https://localhost:8080/",
          "height": 35
        },
        "outputId": "05fc4d89-5749-4411-dd45-6bacd9250ae5"
      },
      "source": [
        "net = [2, 3, 4]\n",
        "arr = [[character + iteration] for iteration in range(0, 3) for character in net]\n",
        "print (\"[2, 3, 4]: \" + str(arr))"
      ],
      "execution_count": null,
      "outputs": [
        {
          "output_type": "stream",
          "text": [
            "[2, 3, 4]: [[2], [3], [4], [3], [4], [5], [4], [5], [6]]\n"
          ],
          "name": "stdout"
        }
      ]
    },
    {
      "cell_type": "code",
      "metadata": {
        "id": "KWSa8bndLmUL",
        "colab_type": "code",
        "colab": {
          "base_uri": "https://localhost:8080/",
          "height": 35
        },
        "outputId": "226e05cf-8a8b-4a94-f548-ed34fca5cca7"
      },
      "source": [
        "net = [2, 3, 4, 5]\n",
        "arr = [[character + iteration for character in net] for iteration in range(0, 5)]\n",
        "print (\"[2, 3, 4, 5]: \" + str(arr))"
      ],
      "execution_count": null,
      "outputs": [
        {
          "output_type": "stream",
          "text": [
            "[2, 3, 4, 5]: [[2, 3, 4, 5], [3, 4, 5, 6], [4, 5, 6, 7], [5, 6, 7, 8], [6, 7, 8, 9]]\n"
          ],
          "name": "stdout"
        }
      ]
    },
    {
      "cell_type": "code",
      "metadata": {
        "id": "s9pU1k_5L3eV",
        "colab_type": "code",
        "colab": {
          "base_uri": "https://localhost:8080/",
          "height": 35
        },
        "outputId": "848e3b45-9852-48d5-b62a-064948c990c5"
      },
      "source": [
        "net = [1, 2, 3]\n",
        "result = [ (y, x) for x in net for y in net]\n",
        "print(\"[1, 2, 3]: \" +  str(result))"
      ],
      "execution_count": null,
      "outputs": [
        {
          "output_type": "stream",
          "text": [
            "[1, 2, 3]: [(1, 1), (2, 1), (3, 1), (1, 2), (2, 2), (3, 2), (1, 3), (2, 3), (3, 3)]\n"
          ],
          "name": "stdout"
        }
      ]
    }
  ]
}